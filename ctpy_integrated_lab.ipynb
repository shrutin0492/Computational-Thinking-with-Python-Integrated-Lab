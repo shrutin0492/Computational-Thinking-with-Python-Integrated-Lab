{
  "nbformat": 4,
  "nbformat_minor": 0,
  "metadata": {
    "colab": {
      "provenance": [],
      "authorship_tag": "ABX9TyNCujGaobXYpSCNrvYSRA93",
      "include_colab_link": true
    },
    "kernelspec": {
      "name": "python3",
      "display_name": "Python 3"
    },
    "language_info": {
      "name": "python"
    }
  },
  "cells": [
    {
      "cell_type": "markdown",
      "metadata": {
        "id": "view-in-github",
        "colab_type": "text"
      },
      "source": [
        "<a href=\"https://colab.research.google.com/github/shrutin567/Computational-Thinking-with-Python-Integrated-Lab/blob/main/ctpy_integrated_lab.ipynb\" target=\"_parent\"><img src=\"https://colab.research.google.com/assets/colab-badge.svg\" alt=\"Open In Colab\"/></a>"
      ]
    },
    {
      "cell_type": "markdown",
      "source": [
        "1. Python program to evaluate Values, expressions, and statements, Conditional execution, and Functions\n",
        "Iterations\n",
        "\n",
        "a. prompt the user to enter an integer and reverse it. And print the sum of the reversed integer.\n",
        "\n",
        "b. Write a python program to find whether a number (num1) is a factor of 255.\n",
        "\n",
        "c.  Write a python program to find whether a number (num1) is a factor of 255.\n",
        "\n",
        "d.    Write a program to find the sum of the following series:                                         \n",
        "i.   1 + 1/3 + 1/5 + 1/7 + .... up to ‘N’ terms.                             \n",
        "ii.  1 + x/1! + x3/2! + x5/3! + x7/4 + .... x2n-1/n!\n"
      ],
      "metadata": {
        "id": "3mTlGgnqfDMh"
      }
    },
    {
      "cell_type": "code",
      "execution_count": 1,
      "metadata": {
        "colab": {
          "base_uri": "https://localhost:8080/"
        },
        "id": "-h-LCLA6eoX3",
        "outputId": "400ae37d-738f-46f6-88a9-47fa60f3116a"
      },
      "outputs": [
        {
          "output_type": "stream",
          "name": "stdout",
          "text": [
            "Enter an integer: 56\n",
            "Reversed: 65\n",
            "Sum: 121\n",
            "Enter a number: 34\n",
            "34 is not a factor of 255\n",
            "Enter another number: 7\n",
            "7 is not a factor of 255\n",
            "Enter the value of N: 3\n",
            "Sum of the series: 1.5333333333333332\n",
            "Enter the value of x: 3\n",
            "Enter the value of N: 5\n",
            "Sum of the series: 1336.125\n"
          ]
        }
      ],
      "source": [
        "import math\n",
        "\n",
        "# Task a\n",
        "def reverse_integer_and_sum():\n",
        "    num = int(input(\"Enter an integer: \"))\n",
        "    reversed_num = int(str(num)[::-1])\n",
        "    sum_reversed = num + reversed_num\n",
        "    print(f\"Reversed: {reversed_num}\")\n",
        "    print(f\"Sum: {sum_reversed}\")\n",
        "\n",
        "reverse_integer_and_sum()\n",
        "\n",
        "# Task b\n",
        "def is_factor(num, factor):\n",
        "    return factor != 0 and num % factor == 0\n",
        "\n",
        "num1 = int(input(\"Enter a number: \"))\n",
        "if is_factor(255, num1):\n",
        "    print(f\"{num1} is a factor of 255\")\n",
        "else:\n",
        "    print(f\"{num1} is not a factor of 255\")\n",
        "\n",
        "# Task c\n",
        "num2 = int(input(\"Enter another number: \"))\n",
        "if is_factor(255, num2):\n",
        "    print(f\"{num2} is a factor of 255\")\n",
        "else:\n",
        "    print(f\"{num2} is not a factor of 255\")\n",
        "\n",
        "# Task d i\n",
        "def sum_series_term(n):\n",
        "    return 1 / (2 * n - 1)\n",
        "\n",
        "N = int(input(\"Enter the value of N: \"))\n",
        "series_sum = sum(sum_series_term(i) for i in range(1, N + 1))\n",
        "print(f\"Sum of the series: {series_sum}\")\n",
        "\n",
        "# Task d ii\n",
        "def sum_series_term_2(x, n):\n",
        "    return (x ** (2 * n - 1)) / math.factorial(n - 1)\n",
        "\n",
        "x_value = float(input(\"Enter the value of x: \"))\n",
        "N_value = int(input(\"Enter the value of N: \"))\n",
        "series_sum_2 = sum(sum_series_term_2(x_value, i) for i in range(1, N_value + 1))\n",
        "print(f\"Sum of the series: {series_sum_2}\")\n"
      ]
    },
    {
      "cell_type": "markdown",
      "source": [
        "2.  Python program to evaluate Python Collections\n",
        "\n",
        "a.   Write a Python Program to demonstrate the inbuilt functions of Strings, List, and sets.\n",
        "\n",
        "b.    Write a Python program for counting a specific letter 'o' in a given string; the number of times vowel\n",
        "‘o’ appears.\n",
        "\n",
        "c.    Write a Python Program to find the frequency of each word in given strings/strings\n",
        "\n",
        "d.    Store the following for ‘n’ countries, using a dictionary:                            \n",
        "i.  Name of a country, country’s capital, per capita income of the country.\n",
        "                                      \n",
        "ii.  Write a program to display details of the country with the highest and second lowest per capita income.2.  Python program to evaluate Python Collections\n",
        "\n",
        "a.   Write a Python Program to demonstrate the inbuilt functions of Strings, List, and sets.\n",
        "\n",
        "b.    Write a Python program for counting a specific letter 'o' in a given string; the number of times vowel\n",
        "‘o’ appears.\n",
        "\n",
        "c.    Write a Python Program to find the frequency of each word in given strings/strings\n",
        "\n",
        "d.    Store the following for ‘n’ countries, using a dictionary:                            \n",
        "i.  Name of a country, country’s capital, per capita income of the country.\n",
        "                                      \n",
        "ii.  Write a program to display details of the country with the highest and second lowest per capita income."
      ],
      "metadata": {
        "id": "zesU2o4PfUZl"
      }
    },
    {
      "cell_type": "code",
      "source": [
        "# Task a\n",
        "# Strings\n",
        "string_example = \"Hello, this is a string example.\"\n",
        "print(\"String length:\", len(string_example))\n",
        "print(\"Uppercase:\", string_example.upper())\n",
        "print(\"Lowercase:\", string_example.lower())\n",
        "print(\"Split:\", string_example.split())\n",
        "\n",
        "# Lists\n",
        "list_example = [1, 2, 3, 4, 5]\n",
        "print(\"List length:\", len(list_example))\n",
        "print(\"Sum:\", sum(list_example))\n",
        "print(\"Sorted:\", sorted(list_example))\n",
        "print(\"List with repetition:\", list_example * 3)\n",
        "\n",
        "# Sets\n",
        "set_example = {1, 2, 3, 4, 5}\n",
        "print(\"Set length:\", len(set_example))\n",
        "print(\"Union:\", set_example.union({4, 5, 6}))\n",
        "print(\"Intersection:\", set_example.intersection({3, 4, 5}))\n",
        "print(\"Is subset:\", set_example.issubset({1, 2, 3, 4, 5, 6}))\n",
        "\n",
        "# Task b\n",
        "def count_letter_o(input_string):\n",
        "    return input_string.lower().count('o')\n",
        "\n",
        "user_input = input(\"Enter a string: \")\n",
        "o_count = count_letter_o(user_input)\n",
        "print(f\"Number of 'o's in the string: {o_count}\")\n",
        "\n",
        "# Task c\n",
        "def word_frequency(input_string):\n",
        "    words = input_string.split()\n",
        "    frequency = {}\n",
        "    for word in words:\n",
        "        frequency[word] = frequency.get(word, 0) + 1\n",
        "    return frequency\n",
        "\n",
        "user_input = input(\"Enter a string: \")\n",
        "word_freq = word_frequency(user_input)\n",
        "print(\"Word frequency:\", word_freq)\n",
        "\n",
        "# Task d\n",
        "n = int(input(\"Enter the number of countries: \"))\n",
        "country_details = []\n",
        "\n",
        "for _ in range(n):\n",
        "    country_name = input(\"Enter country name: \")\n",
        "    capital = input(\"Enter capital: \")\n",
        "    per_capita_income = float(input(\"Enter per capita income: \"))\n",
        "    country_details.append({\n",
        "        'country_name': country_name,\n",
        "        'capital': capital,\n",
        "        'per_capita_income': per_capita_income\n",
        "    })\n",
        "\n",
        "highest_income_country = max(country_details, key=lambda x: x['per_capita_income'])\n",
        "second_lowest_income_country = min(sorted(country_details, key=lambda x: x['per_capita_income'])[1:], key=lambda x: x['per_capita_income'])\n",
        "\n",
        "print(\"Details of the country with highest per capita income:\")\n",
        "print(\"Country:\", highest_income_country['country_name'])\n",
        "print(\"Capital:\", highest_income_country['capital'])\n",
        "print(\"Per Capita Income:\", highest_income_country['per_capita_income'])\n",
        "\n",
        "print(\"Details of the country with second lowest per capita income:\")\n",
        "print(\"Country:\", second_lowest_income_country['country_name'])\n",
        "print(\"Capital:\", second_lowest_income_country['capital'])\n",
        "print(\"Per Capita Income:\", second_lowest_income_country['per_capita_income'])\n",
        "c"
      ],
      "metadata": {
        "colab": {
          "base_uri": "https://localhost:8080/"
        },
        "id": "_9gKRiFefShJ",
        "outputId": "8460540e-2e33-4fce-8c7c-933aee7b98d4"
      },
      "execution_count": 4,
      "outputs": [
        {
          "output_type": "stream",
          "name": "stdout",
          "text": [
            "String length: 32\n",
            "Uppercase: HELLO, THIS IS A STRING EXAMPLE.\n",
            "Lowercase: hello, this is a string example.\n",
            "Split: ['Hello,', 'this', 'is', 'a', 'string', 'example.']\n",
            "List length: 5\n",
            "Sum: 15\n",
            "Sorted: [1, 2, 3, 4, 5]\n",
            "List with repetition: [1, 2, 3, 4, 5, 1, 2, 3, 4, 5, 1, 2, 3, 4, 5]\n",
            "Set length: 5\n",
            "Union: {1, 2, 3, 4, 5, 6}\n",
            "Intersection: {3, 4, 5}\n",
            "Is subset: True\n",
            "Enter a string: cOsmology\n",
            "Number of 'o's in the string: 3\n",
            "Enter a string: this is a test, this is an example\n",
            "Word frequency: {'this': 2, 'is': 2, 'a': 1, 'test,': 1, 'an': 1, 'example': 1}\n",
            "Enter the number of countries: 3\n",
            "Enter country name: c1\n",
            "Enter capital: cap1\n",
            "Enter per capita income: 10000\n",
            "Enter country name: c2\n",
            "Enter capital: cap2\n",
            "Enter per capita income: 15000\n",
            "Enter country name: c3\n",
            "Enter capital: cap3\n",
            "Enter per capita income: 8000\n",
            "Details of the country with highest per capita income:\n",
            "Country: c2\n",
            "Capital: cap2\n",
            "Per Capita Income: 15000.0\n",
            "Details of the country with second lowest per capita income:\n",
            "Country: c1\n",
            "Capital: cap1\n",
            "Per Capita Income: 10000.0\n"
          ]
        }
      ]
    },
    {
      "cell_type": "markdown",
      "source": [
        "3.  Write a python program to create two classes “Python” and “Java” having data members “Version” and “name” and\n",
        "a member function “display()”. With the help of the object, print the appropriate messages."
      ],
      "metadata": {
        "id": "XKTE56BMhUnd"
      }
    },
    {
      "cell_type": "code",
      "source": [
        "class Python:\n",
        "    def __init__(self, version, name):\n",
        "        self.version = version\n",
        "        self.name = name\n",
        "\n",
        "    def display(self):\n",
        "        print(f\"Language: {self.name}\")\n",
        "        print(f\"Version: {self.version}\")\n",
        "        print(\"Python is known for its simplicity and readability.\")\n",
        "\n",
        "class Java:\n",
        "    def __init__(self, version, name):\n",
        "        self.version = version\n",
        "        self.name = name\n",
        "\n",
        "    def display(self):\n",
        "        print(f\"Language: {self.name}\")\n",
        "        print(f\"Version: {self.version}\")\n",
        "        print(\"Java is known for its platform independence and strong typing.\")\n",
        "\n",
        "# Creating objects of the classes\n",
        "python_obj = Python(\"3.9\", \"Python\")\n",
        "java_obj = Java(\"11\", \"Java\")\n",
        "\n",
        "# Displaying information using the display() method\n",
        "print(\"Python Information:\")\n",
        "python_obj.display()\n",
        "print(\"\\nJava Information:\")\n",
        "java_obj.display()\n"
      ],
      "metadata": {
        "colab": {
          "base_uri": "https://localhost:8080/"
        },
        "id": "m4hC7SWrfoYq",
        "outputId": "c4b18ccd-0590-470f-a810-a534326f5dde"
      },
      "execution_count": 5,
      "outputs": [
        {
          "output_type": "stream",
          "name": "stdout",
          "text": [
            "Python Information:\n",
            "Language: Python\n",
            "Version: 3.9\n",
            "Python is known for its simplicity and readability.\n",
            "\n",
            "Java Information:\n",
            "Language: Java\n",
            "Version: 11\n",
            "Java is known for its platform independence and strong typing.\n"
          ]
        }
      ]
    },
    {
      "cell_type": "markdown",
      "source": [
        "4.  Create a class “Employee” with __init__ method to initialize data members: Name, Designation, Ph. No., and a\n",
        "member function display(). Create an instance for the class and display the details of the employee"
      ],
      "metadata": {
        "id": "OdirnM6mhcJM"
      }
    },
    {
      "cell_type": "code",
      "source": [
        "class Employee:\n",
        "    def __init__(self, name, designation, phone_number):\n",
        "        self.name = name\n",
        "        self.designation = designation\n",
        "        self.phone_number = phone_number\n",
        "\n",
        "    def display(self):\n",
        "        print(\"Employee Details:\")\n",
        "        print(f\"Name: {self.name}\")\n",
        "        print(f\"Designation: {self.designation}\")\n",
        "        print(f\"Phone Number: {self.phone_number}\")\n",
        "\n",
        "# Creating an instance of the Employee class\n",
        "employee = Employee(\"ABC XYZ\", \"Software Engineer\", \"123-456-7890\")\n",
        "\n",
        "# Displaying the details of the employee using the display() method\n",
        "employee.display()\n"
      ],
      "metadata": {
        "colab": {
          "base_uri": "https://localhost:8080/"
        },
        "id": "_fxtR2OwhfTP",
        "outputId": "8bac8144-1a70-4319-b72b-b7668d215caa"
      },
      "execution_count": 7,
      "outputs": [
        {
          "output_type": "stream",
          "name": "stdout",
          "text": [
            "Employee Details:\n",
            "Name: ABC XYZ\n",
            "Designation: Software Engineer\n",
            "Phone Number: 123-456-7890\n"
          ]
        }
      ]
    },
    {
      "cell_type": "markdown",
      "source": [
        "5.  Write an interactive calculator. User input is assumed to be a formula that consist of a number, an operator\n",
        "(at least + and -), and another number, separated by white space (e.g. 1 + 1). Split user input using str.split(), and check whether the resulting list is valid:\n",
        "\n",
        "a.   If the input does not consist of 3 elements, raise a FormulaError, which is a custom Exception.\n",
        "\n",
        "b.  Try to convert the first and third input to a float (like so: float_value = float(str_value)). Catch any ValueError that occurs, and instead raise a FormulaError\n",
        "\n",
        "c.  If the second input is not '+' or '-', again raise a FormulaError\n",
        "\n",
        "d.    If the input is valid, perform the calculation and print out the result. The user is then prompted to provide new input, and so on, until the user enters quit."
      ],
      "metadata": {
        "id": "c0212F2uhfuG"
      }
    },
    {
      "cell_type": "code",
      "source": [
        "class FormulaError(Exception):\n",
        "    pass\n",
        "\n",
        "def perform_calculation(num1, operator, num2):\n",
        "    if operator == '+':\n",
        "        return num1 + num2\n",
        "    elif operator == '-':\n",
        "        return num1 - num2\n",
        "\n",
        "def main():\n",
        "    while True:\n",
        "        user_input = input(\"Enter a formula (or 'quit' to exit): \")\n",
        "\n",
        "        if user_input.lower() == 'quit':\n",
        "            print(\"Exiting the calculator.\")\n",
        "            break\n",
        "\n",
        "        try:\n",
        "            elements = user_input.split()\n",
        "            if len(elements) != 3:\n",
        "                raise FormulaError(\"Invalid input: A formula should consist of 3 elements.\")\n",
        "\n",
        "            num1 = float(elements[0])\n",
        "            num2 = float(elements[2])\n",
        "            operator = elements[1]\n",
        "\n",
        "            if operator not in ['+', '-']:\n",
        "                raise FormulaError(\"Invalid operator: Only '+' and '-' operators are allowed.\")\n",
        "\n",
        "            result = perform_calculation(num1, operator, num2)\n",
        "            print(f\"Result: {result}\")\n",
        "\n",
        "        except ValueError:\n",
        "            print(\"Error: Invalid number format.\")\n",
        "        except FormulaError as fe:\n",
        "            print(f\"Formula Error: {fe}\")\n",
        "\n",
        "if __name__ == \"__main__\":\n",
        "    main()\n"
      ],
      "metadata": {
        "colab": {
          "base_uri": "https://localhost:8080/"
        },
        "id": "iV0Nv316hjMK",
        "outputId": "e8461e0e-1976-4e9c-ce48-f78c8b27dd28"
      },
      "execution_count": 8,
      "outputs": [
        {
          "output_type": "stream",
          "name": "stdout",
          "text": [
            "Enter a formula (or 'quit' to exit): 5+3\n",
            "Formula Error: Invalid input: A formula should consist of 3 elements.\n",
            "Enter a formula (or 'quit' to exit): 5 + 3\n",
            "Result: 8.0\n",
            "Enter a formula (or 'quit' to exit): 4 * 2\n",
            "Formula Error: Invalid operator: Only '+' and '-' operators are allowed.\n",
            "Enter a formula (or 'quit' to exit): 10 - 2\n",
            "Result: 8.0\n",
            "Enter a formula (or 'quit' to exit): 7 / 2\n",
            "Formula Error: Invalid operator: Only '+' and '-' operators are allowed.\n",
            "Enter a formula (or 'quit' to exit): 3 +\n",
            "Formula Error: Invalid input: A formula should consist of 3 elements.\n",
            "Enter a formula (or 'quit' to exit): abc +\n",
            "Formula Error: Invalid input: A formula should consist of 3 elements.\n",
            "Enter a formula (or 'quit' to exit): abc+\n",
            "Formula Error: Invalid input: A formula should consist of 3 elements.\n",
            "Enter a formula (or 'quit' to exit): quit\n",
            "Exiting the calculator.\n"
          ]
        }
      ]
    },
    {
      "cell_type": "markdown",
      "source": [
        "6.  Write a Python program to count the number of lines in a text file and read the file line by line and store it into a list as well as find the longest word in the file."
      ],
      "metadata": {
        "id": "iQtdJ3dkhjmI"
      }
    },
    {
      "cell_type": "code",
      "source": [
        "def count_lines(file_path):\n",
        "    with open(file_path, 'r') as file:\n",
        "        line_count = sum(1 for line in file)\n",
        "    return line_count\n",
        "\n",
        "def read_file_and_store(file_path):\n",
        "    lines = []\n",
        "    with open(file_path, 'r') as file:\n",
        "        for line in file:\n",
        "            lines.append(line.strip())\n",
        "    return lines\n",
        "\n",
        "def find_longest_word(lines):\n",
        "    longest_word = ''\n",
        "    for line in lines:\n",
        "        words = line.split()\n",
        "        for word in words:\n",
        "            if len(word) > len(longest_word):\n",
        "                longest_word = word\n",
        "    return longest_word\n",
        "\n",
        "file_path = 'sample.txt'\n",
        "\n",
        "line_count = count_lines(file_path)\n",
        "print(f\"Number of lines in the file: {line_count}\")\n",
        "\n",
        "lines_list = read_file_and_store(file_path)\n",
        "print(\"Contents of the file stored in a list:\")\n",
        "for line in lines_list:\n",
        "    print(line)\n",
        "\n",
        "longest_word = find_longest_word(lines_list)\n",
        "print(f\"Longest word in the file: {longest_word}\")\n"
      ],
      "metadata": {
        "colab": {
          "base_uri": "https://localhost:8080/"
        },
        "id": "9sKWKqv1hmv4",
        "outputId": "8276d51b-a17c-4c9b-beae-4495614b3a41"
      },
      "execution_count": 11,
      "outputs": [
        {
          "output_type": "stream",
          "name": "stdout",
          "text": [
            "Number of lines in the file: 1\n",
            "Contents of the file stored in a list:\n",
            "hello world\n",
            "Longest word in the file: hello\n"
          ]
        }
      ]
    },
    {
      "cell_type": "markdown",
      "source": [
        "7. Write a Python program to create a list of student details: usn, name dob and email {using dictionary} and write a list to a file.\n"
      ],
      "metadata": {
        "id": "BM_iea0shnR3"
      }
    },
    {
      "cell_type": "code",
      "source": [
        "def write_student_details_to_file(student_list, file_path):\n",
        "    with open(file_path, 'w') as file:\n",
        "        for student in student_list:\n",
        "            file.write(f\"USN: {student['usn']}\\n\")\n",
        "            file.write(f\"Name: {student['name']}\\n\")\n",
        "            file.write(f\"DOB: {student['dob']}\\n\")\n",
        "            file.write(f\"Email: {student['email']}\\n\")\n",
        "            file.write(\"\\n\")\n",
        "\n",
        "def main():\n",
        "    student_list = []\n",
        "\n",
        "    n = int(input(\"Enter the number of students: \"))\n",
        "    for i in range(n):\n",
        "        print(f\"Enter details for student {i + 1}:\")\n",
        "        usn = input(\"USN: \")\n",
        "        name = input(\"Name: \")\n",
        "        dob = input(\"DOB: \")\n",
        "        email = input(\"Email: \")\n",
        "        student = {'usn': usn, 'name': name, 'dob': dob, 'email': email}\n",
        "        student_list.append(student)\n",
        "        print()\n",
        "\n",
        "    file_path = 'sample.txt'\n",
        "    write_student_details_to_file(student_list, file_path)\n",
        "    print(\"Student details written to file successfully.\")\n",
        "\n",
        "if __name__ == \"__main__\":\n",
        "    main()\n"
      ],
      "metadata": {
        "colab": {
          "base_uri": "https://localhost:8080/"
        },
        "id": "D6IdHX3Chq4x",
        "outputId": "ca1667bc-d5bd-440c-8458-e1304bc76794"
      },
      "execution_count": 12,
      "outputs": [
        {
          "output_type": "stream",
          "name": "stdout",
          "text": [
            "Enter the number of students: 3\n",
            "Enter details for student 1:\n",
            "USN: 120\n",
            "Name: abc\n",
            "DOB: 2000-01-15\n",
            "Email: abc@example.com\n",
            "\n",
            "Enter details for student 2:\n",
            "USN: 100\n",
            "Name: xyz\n",
            "DOB: 2001-05-17\n",
            "Email: xyz@example.com\n",
            "\n",
            "Enter details for student 3:\n",
            "USN: def\n",
            "Name: def\n",
            "DOB: 2000-09-24\n",
            "Email: def@example.com\n",
            "\n",
            "Student details written to file successfully.\n"
          ]
        }
      ]
    },
    {
      "cell_type": "markdown",
      "source": [
        "8.  Generate one-hot encodings for an array in numpy.\n"
      ],
      "metadata": {
        "id": "NLgeUE8KhrcY"
      }
    },
    {
      "cell_type": "code",
      "source": [
        "import numpy as np\n",
        "\n",
        "# Define your input array with categorical values\n",
        "input_array = np.array([0, 2, 1, 2, 0])\n",
        "\n",
        "# Calculate the number of unique categories\n",
        "num_categories = np.max(input_array) + 1\n",
        "\n",
        "# Generate one-hot encodings using np.eye()\n",
        "one_hot_encodings = np.eye(num_categories)[input_array]\n",
        "\n",
        "print(\"Input array:\")\n",
        "print(input_array)\n",
        "\n",
        "print(\"\\nOne-hot encodings:\")\n",
        "print(one_hot_encodings)\n"
      ],
      "metadata": {
        "colab": {
          "base_uri": "https://localhost:8080/"
        },
        "id": "FTqvmVgrhvlk",
        "outputId": "68200278-a197-4cfa-8d68-45ce5ff1d8b7"
      },
      "execution_count": 13,
      "outputs": [
        {
          "output_type": "stream",
          "name": "stdout",
          "text": [
            "Input array:\n",
            "[0 2 1 2 0]\n",
            "\n",
            "One-hot encodings:\n",
            "[[1. 0. 0.]\n",
            " [0. 0. 1.]\n",
            " [0. 1. 0.]\n",
            " [0. 0. 1.]\n",
            " [1. 0. 0.]]\n"
          ]
        }
      ]
    },
    {
      "cell_type": "markdown",
      "source": [
        "9.   Write a Pandas program to import excel data into a Pandas dataframe and find a list of employees where hire_date is between two specific month and year."
      ],
      "metadata": {
        "id": "r0xeOX7dhv9T"
      }
    },
    {
      "cell_type": "code",
      "source": [
        "import pandas as pd\n",
        "\n",
        "# Load Excel data into a Pandas DataFrame\n",
        "file_path = 'employee_data.xlsx'\n",
        "df = pd.read_excel(file_path)\n",
        "\n",
        "# Convert 'hire_date' column to datetime\n",
        "df['hire_date'] = pd.to_datetime(df['hire_date'])\n",
        "\n",
        "# Define the start and end dates for filtering\n",
        "start_date = pd.to_datetime('2020-01-01')\n",
        "end_date = pd.to_datetime('2021-12-31')\n",
        "\n",
        "# Filter employees based on hire_date\n",
        "filtered_employees = df[(df['hire_date'] >= start_date) & (df['hire_date'] <= end_date)]\n",
        "\n",
        "# Display the filtered employees\n",
        "print(\"List of employees hired between Jan 2020 and Dec 2021:\")\n",
        "print(filtered_employees)\n",
        "\n"
      ],
      "metadata": {
        "colab": {
          "base_uri": "https://localhost:8080/"
        },
        "id": "IzaFamdnhzJ-",
        "outputId": "0e5e165a-f449-4820-d075-593818d1d5df"
      },
      "execution_count": 16,
      "outputs": [
        {
          "output_type": "stream",
          "name": "stdout",
          "text": [
            "List of employees hired between Jan 2020 and Dec 2021:\n",
            "   employee_id employee_name  hire_date\n",
            "0            1           abc 2020-03-15\n",
            "1            2           xyz 2021-08-10\n"
          ]
        }
      ]
    }
  ]
}